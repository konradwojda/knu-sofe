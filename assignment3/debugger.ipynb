{
 "cells": [
  {
   "cell_type": "code",
   "execution_count": 2,
   "metadata": {},
   "outputs": [],
   "source": [
    "from StatisticalDebugger import TarantulaDebugger, OchiaiDebugger"
   ]
  },
  {
   "cell_type": "code",
   "execution_count": 3,
   "metadata": {},
   "outputs": [],
   "source": [
    "def remove_html_markup(s):  # type: ignore\n",
    "    tag = False\n",
    "    quote = False\n",
    "    out = \"\"\n",
    "\n",
    "    for c in s:\n",
    "        if c == '<' and not quote:\n",
    "            tag = True\n",
    "        elif c == '>' and not quote:\n",
    "            tag = False\n",
    "        elif c == '\"' or c == \"'\" and tag:\n",
    "            quote = not quote\n",
    "        elif not tag:\n",
    "            out = out + c\n",
    "\n",
    "    return out"
   ]
  },
  {
   "cell_type": "code",
   "execution_count": 12,
   "metadata": {},
   "outputs": [],
   "source": [
    "debugger = OchiaiDebugger()\n",
    "\n",
    "with debugger.collect_pass():\n",
    "    remove_html_markup('abc')\n",
    "with debugger.collect_pass():\n",
    "    remove_html_markup('<b>abc</b>')\n",
    "with debugger.collect_fail():\n",
    "    remove_html_markup('\"abc\"')\n",
    "with debugger.collect_fail():\n",
    "    remove_html_markup('<b link=\"blue\"></b>')"
   ]
  },
  {
   "cell_type": "code",
   "execution_count": 13,
   "metadata": {},
   "outputs": [
    {
     "data": {
      "text/html": [
       "<pre style=\"background-color:hsl(35.14718625761431, 100.0%, 80%)\"\n",
       "                    title=\"Line 1:  70%\">   1 def remove_html_markup(s):  # type: ignore</pre>\n",
       "<pre style=\"background-color:hsl(35.14718625761431, 100.0%, 80%)\"\n",
       "                    title=\"Line 2:  70%\">   2     tag = False</pre>\n",
       "<pre style=\"background-color:hsl(35.14718625761431, 100.0%, 80%)\"\n",
       "                    title=\"Line 3:  70%\">   3     quote = False</pre>\n",
       "<pre style=\"background-color:hsl(35.14718625761431, 100.0%, 80%)\"\n",
       "                    title=\"Line 4:  70%\">   4     out = &quot;&quot;</pre>\n",
       "<pre title=\"Line 5: not executed\">   5 &nbsp;</pre>\n",
       "<pre style=\"background-color:hsl(35.14718625761431, 100.0%, 80%)\"\n",
       "                    title=\"Line 6:  70%\">   6     for c in s:</pre>\n",
       "<pre style=\"background-color:hsl(35.14718625761431, 100.0%, 80%)\"\n",
       "                    title=\"Line 7:  70%\">   7         if c == &#x27;&lt;&#x27; and not quote:</pre>\n",
       "<pre style=\"background-color:hsl(60.0, 50.0%, 80%)\"\n",
       "                    title=\"Line 8:  50%\">   8             tag = True</pre>\n",
       "<pre style=\"background-color:hsl(35.14718625761431, 100.0%, 80%)\"\n",
       "                    title=\"Line 9:  70%\">   9         elif c == &#x27;&gt;&#x27; and not quote:</pre>\n",
       "<pre style=\"background-color:hsl(60.0, 50.0%, 80%)\"\n",
       "                    title=\"Line 10:  50%\">  10             tag = False</pre>\n",
       "<pre style=\"background-color:hsl(35.14718625761431, 100.0%, 80%)\"\n",
       "                    title=\"Line 11:  70%\">  11         elif c == &#x27;&quot;&#x27; or c == &quot;&#x27;&quot; and tag:</pre>\n",
       "<pre style=\"background-color:hsl(0.0, 100.0%, 80%)\"\n",
       "                    title=\"Line 12: 100%\">  12             quote = not quote</pre>\n",
       "<pre style=\"background-color:hsl(35.14718625761431, 100.0%, 80%)\"\n",
       "                    title=\"Line 13:  70%\">  13         elif not tag:</pre>\n",
       "<pre style=\"background-color:hsl(71.01020514433642, 100.0%, 80%)\"\n",
       "                    title=\"Line 14:  40%\">  14             out = out + c</pre>\n",
       "<pre title=\"Line 15: not executed\">  15 &nbsp;</pre>\n",
       "<pre style=\"background-color:hsl(35.14718625761431, 100.0%, 80%)\"\n",
       "                    title=\"Line 16:  70%\">  16     return out</pre>\n"
      ],
      "text/markdown": [
       "| `remove_html_markup` | `s='abc'` | `s='<b>abc</b>'` | `s='\"abc\"'` | `s='<b link=\"blue\"></b>'` | \n",
       "| --------------------- | ---- | ---- | ---- | ---- | \n",
       "| <samp style=\"background-color: hsl(35.14718625761431, 100.0%, 80%)\" title=\" 70%\"> remove_html_markup:1</samp> |    X |    X |    X |    X | \n",
       "| <samp style=\"background-color: hsl(35.14718625761431, 100.0%, 80%)\" title=\" 70%\"> remove_html_markup:2</samp> |    X |    X |    X |    X | \n",
       "| <samp style=\"background-color: hsl(35.14718625761431, 100.0%, 80%)\" title=\" 70%\"> remove_html_markup:3</samp> |    X |    X |    X |    X | \n",
       "| <samp style=\"background-color: hsl(35.14718625761431, 100.0%, 80%)\" title=\" 70%\"> remove_html_markup:4</samp> |    X |    X |    X |    X | \n",
       "| <samp style=\"background-color: hsl(35.14718625761431, 100.0%, 80%)\" title=\" 70%\"> remove_html_markup:6</samp> |    X |    X |    X |    X | \n",
       "| <samp style=\"background-color: hsl(35.14718625761431, 100.0%, 80%)\" title=\" 70%\"> remove_html_markup:7</samp> |    X |    X |    X |    X | \n",
       "| <samp style=\"background-color: hsl(60.0, 50.0%, 80%)\" title=\" 50%\"> remove_html_markup:8</samp> |    - |    X |    - |    X | \n",
       "| <samp style=\"background-color: hsl(35.14718625761431, 100.0%, 80%)\" title=\" 70%\"> remove_html_markup:9</samp> |    X |    X |    X |    X | \n",
       "| <samp style=\"background-color: hsl(60.0, 50.0%, 80%)\" title=\" 50%\">remove_html_markup:10</samp> |    - |    X |    - |    X | \n",
       "| <samp style=\"background-color: hsl(35.14718625761431, 100.0%, 80%)\" title=\" 70%\">remove_html_markup:11</samp> |    X |    X |    X |    X | \n",
       "| <samp style=\"background-color: hsl(0.0, 100.0%, 80%)\" title=\"100%\">remove_html_markup:12</samp> |    - |    - |    X |    X | \n",
       "| <samp style=\"background-color: hsl(35.14718625761431, 100.0%, 80%)\" title=\" 70%\">remove_html_markup:13</samp> |    X |    X |    X |    X | \n",
       "| <samp style=\"background-color: hsl(71.01020514433642, 100.0%, 80%)\" title=\" 40%\">remove_html_markup:14</samp> |    X |    X |    X |    - | \n",
       "| <samp style=\"background-color: hsl(35.14718625761431, 100.0%, 80%)\" title=\" 70%\">remove_html_markup:16</samp> |    X |    X |    X |    X | \n"
      ],
      "text/plain": [
       "[('remove_html_markup', 12), ('remove_html_markup', 11), ('remove_html_markup', 3), ('remove_html_markup', 6), ('remove_html_markup', 9), ('remove_html_markup', 1), ('remove_html_markup', 4), ('remove_html_markup', 7), ('remove_html_markup', 13), ('remove_html_markup', 16), ('remove_html_markup', 2), ('remove_html_markup', 10), ('remove_html_markup', 8), ('remove_html_markup', 14)]"
      ]
     },
     "execution_count": 13,
     "metadata": {},
     "output_type": "execute_result"
    }
   ],
   "source": [
    "debugger"
   ]
  }
 ],
 "metadata": {
  "kernelspec": {
   "display_name": ".venv",
   "language": "python",
   "name": "python3"
  },
  "language_info": {
   "codemirror_mode": {
    "name": "ipython",
    "version": 3
   },
   "file_extension": ".py",
   "mimetype": "text/x-python",
   "name": "python",
   "nbconvert_exporter": "python",
   "pygments_lexer": "ipython3",
   "version": "3.11.3"
  },
  "orig_nbformat": 4
 },
 "nbformat": 4,
 "nbformat_minor": 2
}
